{
 "cells": [
  {
   "cell_type": "code",
   "execution_count": null,
   "metadata": {},
   "outputs": [],
   "source": [
    "# default_exp lambdasdk"
   ]
  },
  {
   "cell_type": "markdown",
   "metadata": {},
   "source": [
    "# module name here\n",
    "\n",
    "> API details."
   ]
  },
  {
   "cell_type": "code",
   "execution_count": null,
   "metadata": {},
   "outputs": [],
   "source": [
    "#hide\n",
    "# from nbdev.showdoc import *\n",
    "# import pickle\n",
    "# KEY = ''\n",
    "# PW = ''\n",
    "# keypath = '/Users/nic/.lambdasdk-test'\n",
    "# if KEY and PW:\n",
    "#   with open (keypath, 'wb') as f:\n",
    "#     pickle.dump({\n",
    "#         'KEY': KEY,\n",
    "#         'PW': PW\n",
    "#     }, f)\n",
    "# with open(keypath, 'rb') as f:\n",
    "#   creden = pickle.load(f)\n",
    "# USER = creden['KEY']\n",
    "# PW = creden['PW']\n",
    "\n",
    "\n",
    "USER = None\n",
    "PW = None"
   ]
  },
  {
   "cell_type": "code",
   "execution_count": 1,
   "metadata": {},
   "outputs": [],
   "source": [
    "#export\n",
    "from dataclasses import dataclass\n",
    "from dataclasses_json import dataclass_json\n",
    "@dataclass_json\n",
    "@dataclass\n",
    "class InvocationType:\n",
    "  requestResponse = 'RequestResponse'\n",
    "  event = 'Event'"
   ]
  },
  {
   "cell_type": "code",
   "execution_count": 3,
   "metadata": {},
   "outputs": [
    {
     "name": "stdout",
     "output_type": "stream",
     "text": [
      "Event\n",
      "RequestResponse\n"
     ]
    }
   ],
   "source": [
    "print(InvocationType.event)\n",
    "print(InvocationType.requestResponse)"
   ]
  },
  {
   "cell_type": "code",
   "execution_count": null,
   "metadata": {},
   "outputs": [],
   "source": [
    "#export\n",
    "import boto3, base64, json\n",
    "class Lambda:\n",
    "  ''' \n",
    "    for invoking lambda functions\n",
    "  '''\n",
    "  def __init__(self, user=None, pw=None, sessionToken=None, region = 'ap-southeast-1'):\n",
    "    self.lambdaClient = boto3.client(\n",
    "        'lambda', \n",
    "        aws_access_key_id=user,\n",
    "        aws_secret_access_key=pw,\n",
    "        region_name = region,\n",
    "        aws_session_token=sessionToken\n",
    "      )\n",
    "  def invoke(self, functionName, input, invocationType= 'RequestResponse'):\n",
    "    response = self.lambdaClient.invoke(\n",
    "      FunctionName = functionName,\n",
    "      InvocationType= invocationType,\n",
    "      LogType='Tail',\n",
    "      ClientContext= base64.b64encode(json.dumps({'caller': 'sdk'}).encode()).decode(),\n",
    "      Payload= json.dumps(input)\n",
    "    )\n",
    "    if invocationType == 'Event':\n",
    "      return True\n",
    "    return json.loads(response['Payload'].read())\n",
    "    "
   ]
  },
  {
   "cell_type": "code",
   "execution_count": null,
   "metadata": {},
   "outputs": [
    {
     "data": {
      "text/plain": [
       "{'statusCode': 200, 'body': '\"Hello from Lambda!\"'}"
      ]
     },
     "execution_count": null,
     "metadata": {},
     "output_type": "execute_result"
    }
   ],
   "source": [
    "lambda_ = Lambda(\n",
    "    user = USER,\n",
    "    pw = PW,\n",
    "    region = 'ap-southeast-1'\n",
    ")\n",
    "lambda_.invoke(\n",
    "    functionName= 'lambda-pip' ,\n",
    "    input = {'test':'test'}, \n",
    "    invocationType= 'RequestResponse' \n",
    ")"
   ]
  },
  {
   "cell_type": "code",
   "execution_count": null,
   "metadata": {},
   "outputs": [],
   "source": []
  }
 ],
 "metadata": {
  "kernelspec": {
   "display_name": "python38",
   "language": "python",
   "name": "python38"
  },
  "language_info": {
   "codemirror_mode": {
    "name": "ipython",
    "version": 3
   },
   "file_extension": ".py",
   "mimetype": "text/x-python",
   "name": "python",
   "nbconvert_exporter": "python",
   "pygments_lexer": "ipython3",
   "version": "3.8.6"
  }
 },
 "nbformat": 4,
 "nbformat_minor": 4
}
